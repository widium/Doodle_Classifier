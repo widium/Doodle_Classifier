{
 "cells": [
  {
   "cell_type": "code",
   "execution_count": 1,
   "metadata": {},
   "outputs": [],
   "source": [
    "import os\n",
    "# os.environ[\"CUDA_VISIBLE_DEVICES\"] = \"-1\"\n",
    "\n",
    "from urllib import request\n",
    "import numpy as np\n",
    "import matplotlib.pyplot as plt\n",
    "import glob\n",
    "import tensorflow as tf\n",
    "from keras.layers import Rescaling\n",
    "\n",
    "from tqdm import tqdm\n",
    "\n",
    "\n",
    "import numpy as np\n",
    "import pandas as pd\n",
    "import matplotlib.pyplot as plt\n",
    "import tensorflow as tf\n",
    "import cv2\n",
    "\n",
    "\n",
    "from keras import Sequential\n",
    "from keras.layers import Input\n",
    "from keras.layers import Conv2D, MaxPooling2D, GlobalMaxPooling2D, GlobalAveragePooling2D\n",
    "from keras.layers import Dense, Flatten, Dropout\n",
    "\n",
    "from tensorflow.keras.optimizers import Adam\n",
    "\n",
    "from keras.losses import CategoricalCrossentropy\n",
    "import pandas as pd\n",
    "\n",
    "def understanding_error(history):\n",
    "    \n",
    "    result = list()\n",
    "    history = pd.DataFrame(history.history)\n",
    "    \n",
    "    train_accuracy = history[\"accuracy\"][-1:].values\n",
    "    test_accuracy = history[\"val_accuracy\"][-1:].values\n",
    "    \n",
    "    if (test_accuracy < 0.80) :\n",
    "        result.append(\"High Biais\")\n",
    "        result.append(\"Underfitting\")\n",
    "    \n",
    "    elif (test_accuracy > 0.80 and test_accuracy < 0.95):\n",
    "        result.append(\"Medium Biais\")\n",
    "        \n",
    "    elif (test_accuracy > 0.95):\n",
    "        result.append(\"Low Biais\")\n",
    "    \n",
    "    gap = train_accuracy - test_accuracy\n",
    "    \n",
    "    if (gap > 0.15):\n",
    "        result.append(\"High Variance\")\n",
    "        result.append(\"Overfitting\")\n",
    "        \n",
    "    elif (gap < 0.15 and gap > 0.10):\n",
    "        result.append(\"Medium Variance\")\n",
    "            \n",
    "    elif (gap < 0.10 ):\n",
    "        result.append(\"Low Variance\")\n",
    "    \n",
    "    return (result)\n",
    "\n",
    "def plot_loss_curves(history):\n",
    "\n",
    "    result = understanding_error(history)\n",
    "    history = pd.DataFrame(history.history)\n",
    "\n",
    "    loss = history[\"loss\"]\n",
    "    accuracy = history[\"accuracy\"]\n",
    "    val_loss = history[\"val_loss\"]\n",
    "    val_accuracy = history[\"val_accuracy\"]\n",
    "    epochs = range(len(loss))\n",
    "\n",
    "    print(result)\n",
    "    ### plot loss and accuracy of training\n",
    "    plt.figure()\n",
    "    plt.plot(epochs, loss, label=\"training_loss\")\n",
    "    plt.plot(epochs, val_loss, label=\"validation_loss\")\n",
    "    plt.title(\"loss\")\n",
    "    plt.xlabel(\"epochs\")\n",
    "    plt.legend()\n",
    "    plt.show();\n",
    "\n",
    "    ### plot loss and accuracy of validation\n",
    "    plt.figure()\n",
    "    plt.plot(epochs, accuracy, label=\"training_accuracy\")\n",
    "    plt.plot(epochs, val_accuracy, label=\"validation_accuracy\")\n",
    "    plt.title(\"accuracy\")\n",
    "    plt.xlabel(\"epochs\")\n",
    "    plt.legend()\n",
    "    plt.show();\n",
    "    \n",
    "from sklearn.metrics import accuracy_score\n",
    "from sklearn.metrics import precision_recall_fscore_support\n",
    "\n",
    "def calculate_average_metrics(y_true,\n",
    "                              y_pred):\n",
    "  \n",
    "    accuracy = accuracy_score(y_true, y_pred)\n",
    "    precision, recall, f1_score, _ = precision_recall_fscore_support(y_true,\n",
    "                                                                     y_pred,\n",
    "                                                                     average=\"weighted\")\n",
    "    \n",
    "    result = {\n",
    "               'Accuracy': round(accuracy * 100, 2),\n",
    "               'Precision' : round(precision * 100, 2),\n",
    "               'Recall': round(recall * 100, 2),\n",
    "               'F1-Score' : round(f1_score * 100, 2)\n",
    "        \n",
    "             }\n",
    "    \n",
    "    return (result)\n",
    "\n",
    "def visualize_average_metrics(scores : dict):\n",
    "\n",
    "    # Unpack Data \n",
    "    names = list(scores.keys())\n",
    "    values = list(scores.values())\n",
    "\n",
    "    # Create figure\n",
    "    fig = plt.figure(figsize=(10, 5))\n",
    "\n",
    "    # Create bar chart\n",
    "    plt.bar(names, values, width=0.4)\n",
    "    plt.ylim(0, 110)  # set y-axis limit\n",
    "\n",
    "    # Add percentage labels above each bar\n",
    "    for i in range(len(values)):\n",
    "\n",
    "        place_x_axis = i-0.3\n",
    "        place_y_axis = values[i]+2\n",
    "        text = str(values[i])+'%'\n",
    "\n",
    "        plt.text(x=place_x_axis,\n",
    "                y=place_y_axis,\n",
    "                s=text,\n",
    "                fontsize=12)\n",
    "\n",
    "    plt.xlabel('Metrics')\n",
    "    plt.ylabel('Scores (%)')\n",
    "    plt.title('Bar Chart of Scores')\n",
    "    plt.show()\n",
    "    \n",
    "import random\n",
    "\n",
    "def plot_random_img(data, labels, class_names, number):\n",
    "\n",
    "    plt.figure(figsize=(10, 10))\n",
    "    for i in range(number):\n",
    "\n",
    "        ax = plt.subplot(int(number/2), int(number/2), i+1)\n",
    "        index = random.choice(range(len(data)))\n",
    "        plt.imshow(data[index], cmap=plt.cm.binary)\n",
    "        plt.title(class_names[int(labels[index])])\n",
    "        plt.axis(False)"
   ]
  },
  {
   "cell_type": "code",
   "execution_count": 2,
   "metadata": {},
   "outputs": [],
   "source": [
    "# X_train = np.load(\"saving/810k_train_set.npy\", )\n",
    "# y_train = np.load(\"saving/810k_train_labels.npy\", )\n",
    "# X_val = np.load(\"saving/90k_val_set.npy\")\n",
    "# y_val = np.load(\"saving/90k_val_labels.npy\")\n",
    "# X_test = np.load(\"saving/100k_test_set.npy\")\n",
    "# y_test = np.load(\"saving/100k_test_labels.npy\")\n",
    "\n"
   ]
  },
  {
   "cell_type": "code",
   "execution_count": 3,
   "metadata": {},
   "outputs": [],
   "source": [
    "\n",
    "# print(\"X_train shape: {}\".format(X_train.shape))\n",
    "# print(\"y_train shape: {}\".format(y_train.shape))\n",
    "# print(\"X_dev shape: {}\".format(X_val.shape))\n",
    "# print(\"y_dev shape: {}\".format(y_val.shape))\n",
    "# print(\"X_test shape: {}\".format(X_test.shape))\n",
    "# print(\"y_test shape: {}\".format(y_test.shape))"
   ]
  },
  {
   "cell_type": "code",
   "execution_count": 4,
   "metadata": {},
   "outputs": [
    {
     "name": "stdout",
     "output_type": "stream",
     "text": [
      "Num GPUs Available:  1\n"
     ]
    },
    {
     "name": "stderr",
     "output_type": "stream",
     "text": [
      "2023-02-05 17:44:41.473044: I tensorflow/stream_executor/cuda/cuda_gpu_executor.cc:939] successful NUMA node read from SysFS had negative value (-1), but there must be at least one NUMA node, so returning NUMA node zero\n",
      "2023-02-05 17:44:41.572461: I tensorflow/stream_executor/cuda/cuda_gpu_executor.cc:939] successful NUMA node read from SysFS had negative value (-1), but there must be at least one NUMA node, so returning NUMA node zero\n",
      "2023-02-05 17:44:41.572842: I tensorflow/stream_executor/cuda/cuda_gpu_executor.cc:939] successful NUMA node read from SysFS had negative value (-1), but there must be at least one NUMA node, so returning NUMA node zero\n"
     ]
    }
   ],
   "source": [
    "print(\"Num GPUs Available: \", len(tf.config.list_physical_devices('GPU')))"
   ]
  },
  {
   "cell_type": "code",
   "execution_count": 6,
   "metadata": {},
   "outputs": [
    {
     "name": "stdout",
     "output_type": "stream",
     "text": [
      "5.651 Gb\n",
      "{'current': 0, 'peak': 0}\n",
      "0\n"
     ]
    }
   ],
   "source": [
    "import subprocess as sp\n",
    "import os\n",
    "import tensorflow as tf\n",
    "import numpy as np\n",
    "\n",
    "def get_gpu_memory():\n",
    "    command = \"nvidia-smi --query-gpu=memory.free --format=csv\"\n",
    "    memory_free_info = sp.check_output(command.split()).decode('ascii').split('\\n')[:-1][1:]\n",
    "    memory_free_values = [int(x.split()[0]) for i, x in enumerate(memory_free_info)]\n",
    "    print(f\"{memory_free_values[0] / 1000} Gb\")\n",
    "\n",
    "get_gpu_memory()\n",
    "print(tf.config.experimental.get_memory_info('GPU:0'))\n",
    "print(tf.config.experimental.get_memory_usage('GPU:0'))"
   ]
  },
  {
   "cell_type": "code",
   "execution_count": 7,
   "metadata": {},
   "outputs": [],
   "source": [
    "# import numpy as np\n",
    "# train_set = np.load(\"saving/810k_train_set.npy\")\n",
    "# y_train = np.load(\"saving/810k_train_labels.npy\")\n",
    "# val_set = np.load(\"saving/90k_val_set.npy\")\n",
    "# y_val = np.load(\"saving/90k_val_labels.npy\")\n"
   ]
  },
  {
   "cell_type": "code",
   "execution_count": 8,
   "metadata": {},
   "outputs": [
    {
     "data": {
      "text/plain": [
       "100"
      ]
     },
     "execution_count": 8,
     "metadata": {},
     "output_type": "execute_result"
    }
   ],
   "source": [
    "my_file = open(\"saving/class_names.txt\", \"r\")\n",
    "data = my_file.read()\n",
    "class_names = data.split(\"\\n\")\n",
    "my_file.close()\n",
    "\n",
    "NBR_CLASS = len(class_names)\n",
    "\n",
    "NBR_CLASS"
   ]
  },
  {
   "cell_type": "code",
   "execution_count": 9,
   "metadata": {},
   "outputs": [
    {
     "data": {
      "text/plain": [
       "<_LoadDataset shapes: ((28, 28, 1), (100,)), types: (tf.float32, tf.float32)>"
      ]
     },
     "execution_count": 9,
     "metadata": {},
     "output_type": "execute_result"
    }
   ],
   "source": [
    "train_dataset = tf.data.experimental.load(\"saving/810k_tensorflow_train_dataset\")\n",
    "val_dataset = tf.data.experimental.load(\"saving/90k_tensorflow_val_dataset\")\n",
    "\n",
    "\n",
    "train_dataset"
   ]
  },
  {
   "cell_type": "code",
   "execution_count": 10,
   "metadata": {},
   "outputs": [],
   "source": [
    "import tensorflow as tf\n",
    "\n",
    "def batch_prefetch_dataset_convertion(dataset, batch_size=256):\n",
    "\n",
    "    batch_dataset = dataset.batch(batch_size=batch_size)\n",
    "    prefetch_dataset = batch_dataset.prefetch(buffer_size=tf.data.AUTOTUNE)\n",
    "\n",
    "    return (batch_dataset)\n",
    "\n",
    "train_dataset = batch_prefetch_dataset_convertion(train_dataset, batch_size=256)\n",
    "val_dataset = batch_prefetch_dataset_convertion(val_dataset, batch_size=256)"
   ]
  },
  {
   "cell_type": "code",
   "execution_count": 11,
   "metadata": {},
   "outputs": [
    {
     "name": "stdout",
     "output_type": "stream",
     "text": [
      "352/352 [==============================] - 4s 12ms/step - loss: 0.6266 - accuracy: 0.8404\n"
     ]
    },
    {
     "data": {
      "text/plain": [
       "[0.6265830993652344, 0.8404111266136169]"
      ]
     },
     "execution_count": 11,
     "metadata": {},
     "output_type": "execute_result"
    }
   ],
   "source": [
    "from keras.models import load_model\n",
    "\n",
    "model = load_model(\"best_model_train_on_900k\")\n",
    "model.evaluate(val_dataset)"
   ]
  },
  {
   "cell_type": "code",
   "execution_count": 15,
   "metadata": {},
   "outputs": [
    {
     "name": "stdout",
     "output_type": "stream",
     "text": [
      "IMG SHAPE (1, 28, 28, 1)\n",
      "[[0. 0. 0. 0. 0. 0. 0. 0. 0. 0. 0. 0. 0. 0. 0. 0. 0. 0. 0. 0. 0. 0. 0. 0.\n",
      "  0. 0. 0. 0. 0. 1. 0. 0. 0. 0. 0. 0. 0. 0. 0. 0. 0. 0. 0. 0. 0. 0. 0. 0.\n",
      "  0. 0. 0. 0. 0. 0. 0. 0. 0. 0. 0. 0. 0. 0. 0. 0. 0. 0. 0. 0. 0. 0. 0. 0.\n",
      "  0. 0. 0. 0. 0. 0. 0. 0. 0. 0. 0. 0. 0. 0. 0. 0. 0. 0. 0. 0. 0. 0. 0. 0.\n",
      "  0. 0. 0. 0.]]\n"
     ]
    },
    {
     "name": "stderr",
     "output_type": "stream",
     "text": [
      "/tmp/ipykernel_122970/2910746089.py:11: DeprecationWarning: ANTIALIAS is deprecated and will be removed in Pillow 10 (2023-07-01). Use Resampling.LANCZOS instead.\n",
      "  img_resize = img_pil.resize((28, 28), Image.ANTIALIAS)\n"
     ]
    }
   ],
   "source": [
    "import cv2\n",
    "from PIL import Image\n",
    "from PIL.Image import fromarray\n",
    "\n",
    "IMG_PATH = \"book.png\"\n",
    "\n",
    "def load_img_array(img_path):\n",
    "\n",
    "    img_array = cv2.imread(img_path, cv2.IMREAD_GRAYSCALE)\n",
    "    img_pil = fromarray(img_array)\n",
    "    img_resize = img_pil.resize((28, 28), Image.ANTIALIAS)\n",
    "    img = np.array(img_resize)\n",
    "    img = tf.expand_dims(img, axis=2)\n",
    "    img = tf.expand_dims(img, axis=0)\n",
    "    print(\"IMG SHAPE\", img.shape)\n",
    "    return (img)\n",
    "\n",
    "img = load_img_array(img_path=IMG_PATH)\n",
    "\n",
    "probs = model.predict(img)\n",
    "\n",
    "print(probs)"
   ]
  },
  {
   "cell_type": "code",
   "execution_count": 11,
   "metadata": {},
   "outputs": [],
   "source": [
    "def recover_data_label_from_dataset(dataset : tf.data.Dataset):\n",
    "    \n",
    "        label = np.concatenate([label for data, label in dataset], axis=0)\n",
    "        data = np.concatenate([data for data, label in dataset], axis=0)\n",
    "        \n",
    "        return (data, label)\n",
    "\n",
    "\n",
    "train_data, train_label= recover_data_label_from_dataset(train_dataset)\n",
    "val_data, val_label = recover_data_label_from_dataset(val_dataset)"
   ]
  },
  {
   "cell_type": "code",
   "execution_count": 12,
   "metadata": {},
   "outputs": [
    {
     "name": "stdout",
     "output_type": "stream",
     "text": [
      "1.535 Gb\n"
     ]
    }
   ],
   "source": [
    "get_gpu_memory()"
   ]
  },
  {
   "attachments": {},
   "cell_type": "markdown",
   "metadata": {},
   "source": [
    "### Best accuracy and loss \n",
    "- `Model_7`\n",
    "- **`val_accuracy: 0.8457`**, \n",
    "- **`10 epochs`**\n",
    "- **`900_000 example`**\n"
   ]
  },
  {
   "attachments": {},
   "cell_type": "markdown",
   "metadata": {},
   "source": [
    "### Import last best model"
   ]
  },
  {
   "cell_type": "code",
   "execution_count": 15,
   "metadata": {},
   "outputs": [
    {
     "name": "stdout",
     "output_type": "stream",
     "text": [
      "Model: \"sequential_2\"\n",
      "_________________________________________________________________\n",
      " Layer (type)                Output Shape              Param #   \n",
      "=================================================================\n",
      " conv2d_8 (Conv2D)           (None, 28, 28, 64)        640       \n",
      "                                                                 \n",
      " conv2d_9 (Conv2D)           (None, 28, 28, 64)        36928     \n",
      "                                                                 \n",
      " max_pooling2d_4 (MaxPooling  (None, 14, 14, 64)       0         \n",
      " 2D)                                                             \n",
      "                                                                 \n",
      " conv2d_10 (Conv2D)          (None, 14, 14, 128)       73856     \n",
      "                                                                 \n",
      " conv2d_11 (Conv2D)          (None, 14, 14, 128)       147584    \n",
      "                                                                 \n",
      " max_pooling2d_5 (MaxPooling  (None, 7, 7, 128)        0         \n",
      " 2D)                                                             \n",
      "                                                                 \n",
      " conv2d_12 (Conv2D)          (None, 7, 7, 256)         295168    \n",
      "                                                                 \n",
      " conv2d_13 (Conv2D)          (None, 7, 7, 256)         590080    \n",
      "                                                                 \n",
      " max_pooling2d_6 (MaxPooling  (None, 3, 3, 256)        0         \n",
      " 2D)                                                             \n",
      "                                                                 \n",
      " flatten_2 (Flatten)         (None, 2304)              0         \n",
      "                                                                 \n",
      " dense_4 (Dense)             (None, 1024)              2360320   \n",
      "                                                                 \n",
      " dropout_2 (Dropout)         (None, 1024)              0         \n",
      "                                                                 \n",
      " dense_5 (Dense)             (None, 100)               102500    \n",
      "                                                                 \n",
      "=================================================================\n",
      "Total params: 3,607,076\n",
      "Trainable params: 3,607,076\n",
      "Non-trainable params: 0\n",
      "_________________________________________________________________\n"
     ]
    }
   ],
   "source": [
    "from keras.losses import CategoricalCrossentropy\n",
    "\n",
    "model_7 = Sequential(\n",
    "    [\n",
    "        Input(shape=(28, 28, 1)),\n",
    "        \n",
    "        Conv2D(64, (3, 3), activation=\"relu\", padding='same'),\n",
    "        Conv2D(64, (3, 3), activation=\"relu\", padding='same'),\n",
    "        MaxPooling2D(pool_size=(2, 2), padding='valid'),\n",
    "        \n",
    "        Conv2D(128, (3, 3), activation=\"relu\", padding='same'),\n",
    "        Conv2D(128, (3, 3), activation=\"relu\", padding='same'),\n",
    "        MaxPooling2D(pool_size=(2, 2), padding='valid'),\n",
    "        \n",
    "        Conv2D(256, (3, 3), activation=\"relu\", padding='same'),\n",
    "        Conv2D(256, (3, 3), activation=\"relu\", padding='same'),\n",
    "        MaxPooling2D(pool_size=(2, 2), padding='valid'),\n",
    "        \n",
    "        Flatten(),\n",
    "        Dense(1024, activation=\"relu\"),\n",
    "        Dropout(0.5),\n",
    "        \n",
    "        Dense(NBR_CLASS, activation=\"softmax\")\n",
    "    ]\n",
    ")\n",
    "\n",
    "model_7.compile(optimizer=Adam(),\n",
    "              loss=CategoricalCrossentropy(),\n",
    "              metrics=[\"accuracy\"])\n",
    "\n",
    "model_7.summary()"
   ]
  },
  {
   "cell_type": "code",
   "execution_count": 16,
   "metadata": {},
   "outputs": [
    {
     "name": "stdout",
     "output_type": "stream",
     "text": [
      "Epoch 1/10\n"
     ]
    },
    {
     "name": "stderr",
     "output_type": "stream",
     "text": [
      "2023-02-05 17:47:15.801074: I tensorflow/stream_executor/cuda/cuda_dnn.cc:366] Loaded cuDNN version 8600\n",
      "2023-02-05 17:47:17.348289: I tensorflow/stream_executor/cuda/cuda_blas.cc:1774] TensorFloat-32 will be used for the matrix multiplication. This will only be logged once.\n"
     ]
    },
    {
     "name": "stdout",
     "output_type": "stream",
     "text": [
      "3165/3165 [==============================] - 122s 37ms/step - loss: 1.1149 - accuracy: 0.7162 - val_loss: 0.7179 - val_accuracy: 0.8132\n",
      "Epoch 2/10\n",
      "3165/3165 [==============================] - 116s 37ms/step - loss: 0.7215 - accuracy: 0.8138 - val_loss: 0.6598 - val_accuracy: 0.8291\n",
      "Epoch 3/10\n",
      "3163/3165 [============================>.] - ETA: 0s - loss: 0.6407 - accuracy: 0.8331"
     ]
    }
   ],
   "source": [
    "history_model_7 = model_7.fit(train_dataset,\n",
    "                            validation_data=[val_dataset],\n",
    "                            epochs=10,\n",
    "                            verbose=1)"
   ]
  },
  {
   "cell_type": "code",
   "execution_count": 23,
   "metadata": {},
   "outputs": [
    {
     "name": "stdout",
     "output_type": "stream",
     "text": [
      "['Medium Biais', 'Low Variance']\n"
     ]
    },
    {
     "data": {
      "image/png": "[encoded data removed]",
      "text/plain": [
       "<Figure size 640x480 with 1 Axes>"
      ]
     },
     "metadata": {},
     "output_type": "display_data"
    },
    {
     "data": {
      "image/png": "[encoded data removed]",
      "text/plain": [
       "<Figure size 640x480 with 1 Axes>"
      ]
     },
     "metadata": {},
     "output_type": "display_data"
    },
    {
     "data": {
      "image/png": "[encoded data removed]",
      "text/plain": [
       "<Figure size 1000x500 with 1 Axes>"
      ]
     },
     "metadata": {},
     "output_type": "display_data"
    }
   ],
   "source": [
    "plot_loss_curves(history_model_7)\n",
    "y_probability = model_7.predict(val_dataset)\n",
    "y_pred = y_probability.argmax(axis=1)\n",
    "\n",
    "scores_model_7 = calculate_average_metrics(y_true=val_label.argmax(axis=1),\n",
    "                                            y_pred=y_pred)\n",
    "                                   \n",
    "visualize_average_metrics(scores=scores_model_7)"
   ]
  },
  {
   "cell_type": "code",
   "execution_count": 18,
   "metadata": {},
   "outputs": [
    {
     "name": "stderr",
     "output_type": "stream",
     "text": [
      "2023-02-03 16:16:18.371306: W tensorflow/python/util/util.cc:368] Sets are not currently considered sequences, but this may change in the future, so consider avoiding using them.\n"
     ]
    },
    {
     "name": "stdout",
     "output_type": "stream",
     "text": [
      "INFO:tensorflow:Assets written to: best_model_train_on_900k/assets\n"
     ]
    }
   ],
   "source": [
    "model_7.save(\"best_model_train_on_900k\")"
   ]
  },
  {
   "cell_type": "code",
   "execution_count": 36,
   "metadata": {},
   "outputs": [
    {
     "name": "stdout",
     "output_type": "stream",
     "text": [
      "1250/1250 [==============================] - 1s 968us/step - loss: 3.9507 - accuracy: 0.7145\n",
      "Loss on the Test set : 3.950748920440674\n",
      "Accuracy on the Test set : 71.45%\n"
     ]
    }
   ],
   "source": [
    "loss, accuracy = model.evaluate(X_test, y_test)\n",
    "\n",
    "print(f\"Loss on the Test set : {loss}\")\n",
    "print(f\"Accuracy on the Test set : {(accuracy*100):.2f}%\")"
   ]
  },
  {
   "cell_type": "code",
   "execution_count": 33,
   "metadata": {},
   "outputs": [
    {
     "name": "stderr",
     "output_type": "stream",
     "text": [
      "2022-12-23 21:04:31.307068: W tensorflow/python/util/util.cc:368] Sets are not currently considered sequences, but this may change in the future, so consider avoiding using them.\n"
     ]
    },
    {
     "name": "stdout",
     "output_type": "stream",
     "text": [
      "INFO:tensorflow:Assets written to: best_model/assets\n"
     ]
    }
   ],
   "source": [
    "model.save(\"best_model\")"
   ]
  },
  {
   "attachments": {},
   "cell_type": "markdown",
   "metadata": {},
   "source": [
    "### Test Prediction"
   ]
  },
  {
   "cell_type": "code",
   "execution_count": 1,
   "metadata": {},
   "outputs": [],
   "source": [
    "from keras.models import load_model\n",
    "import random\n",
    "\n",
    "import numpy as np\n",
    "import matplotlib.pyplot as plt\n",
    "import glob\n",
    "import os\n",
    "import tensorflow as tf"
   ]
  },
  {
   "cell_type": "code",
   "execution_count": null,
   "metadata": {},
   "outputs": [],
   "source": [
    "from keras.models import load_model\n",
    "\n",
    "model = load_model(\"best_model\")\n",
    "\n",
    "my_file = open(\"class_names.txt\", \"r\")\n",
    "data = my_file.read()\n",
    "class_names = data.split(\"\\n\")\n",
    "my_file.close()"
   ]
  },
  {
   "cell_type": "code",
   "execution_count": 22,
   "metadata": {},
   "outputs": [],
   "source": [
    "from tensorflow.keras.preprocessing.image import load_img, img_to_array\n",
    "from keras.models import Model\n",
    "from tensorflow import GradientTape\n",
    "import numpy as np"
   ]
  },
  {
   "cell_type": "code",
   "execution_count": 16,
   "metadata": {},
   "outputs": [],
   "source": [
    "from tensorflow.keras.preprocessing.image import load_img, img_to_array\n",
    "from keras.models import Model\n",
    "from tensorflow import GradientTape\n",
    "import cv2\n",
    "from PIL import Image\n",
    "from PIL.Image import fromarray\n",
    "\n",
    "IMG_PATH = \"book.png\"\n",
    "\n",
    "def load_img_array(img_path):\n",
    "\n",
    "    img_array = cv2.imread(img_path, cv2.IMREAD_GRAYSCALE)\n",
    "    img_pil = fromarray(img_array)\n",
    "    img_resize = img_pil.resize((28, 28), Image.ANTIALIAS)\n",
    "    img = np.array(img_resize)\n",
    "    img = tf.expand_dims(img, axis=2)\n",
    "    img = tf.expand_dims(img, axis=0)\n",
    "    print(\"IMG SHAPE\", img.shape)\n",
    "    return (img)\n",
    "\n",
    "\n",
    "def find_target_layer(model):\n",
    "\n",
    "    # attempt to find the final convolutional layer in the network\n",
    "    # by looping over the layers of the network in reverse order\n",
    "    for layer in reversed(model.layers):\n",
    "\n",
    "        # check to see if the layer has a 4D output\n",
    "        if len(layer.output_shape) == 4:\n",
    "            return layer.name\n",
    "\n",
    "\n",
    "\n",
    "class GradCAM:\n",
    "\n",
    "    def __init__(self, model):\n",
    "\n",
    "        self.model = model\n",
    "        self.layerName = find_target_layer(self.model)\n",
    "\n",
    "    def create_gradcam_model(self):\n",
    "\n",
    "        # self.model.layers[-1].activation = None\n",
    "\n",
    "        GradModel = Model(inputs=[self.model.inputs], \n",
    "                          outputs=[self.model.get_layer(self.layerName).output, \n",
    "                                    self.model.output]) \n",
    "        return (GradModel)\n",
    "\n",
    "    def compute_gradient(self, GradCAM_Model, img_array):\n",
    "    # Then, we compute the gradient of the top predicted class for our input image\n",
    "        # with respect to the activations of the last conv layer\n",
    "        with GradientTape() as tape:\n",
    "            LastFeatureMap, preds = GradCAM_Model(img_array)\n",
    "            print(LastFeatureMap.shape, preds.shape)\n",
    "            pred_index = tf.argmax(preds, axis=0)\n",
    "            print(pred_index)\n",
    "            y_pred = preds[:, pred_index]\n",
    "            print(y_pred)\n",
    "\n",
    "        # This is the gradient of the output neuron (top predicted or chosen)\n",
    "        # with regard to the output feature map of the last conv layer\n",
    "        Grad = tape.gradient(y_pred, LastFeatureMap)\n",
    "\n",
    "        # This is a vector where each entry is the mean intensity of the gradient\n",
    "        # over a specific feature map channel\n",
    "        Grad = tf.reduce_mean(self.Grad, axis=(0, 1, 2))\n",
    "\n",
    "        return (Grad, LastFeatureMap)\n",
    "    \n",
    "    def compute_heatmap(self, Grad, LastFeatureMap):\n",
    "\n",
    "        # We multiply each channel in the feature map array\n",
    "        # by \"how important this channel is\" with regard to the top predicted class\n",
    "        # then sum all the channels to obtain the heatmap class activation\n",
    "        LastFeatureMap = LastFeatureMap[0]\n",
    "        HeatMap = LastFeatureMap @ Grad[..., tf.newaxis]\n",
    "        HeatMap = tf.squeeze(HeatMap)\n",
    "\n",
    "        return (HeatMap)\n",
    "\n",
    "    def normalize_heatmap(self, Heatmap):\n",
    "        # For visualization purpose, we will also normalize the heatmap between 0 & 1\n",
    "        Heatmap = tf.maximum(Heatmap, 0) / tf.math.reduce_max(Heatmap)\n",
    "        return (Heatmap.numpy())\n",
    "    \n",
    "    def generate_heatmap(self, filename):\n",
    "        \n",
    "        img_array = load_img_array(filename)\n",
    "        GradModel = self.create_gradcam_model()\n",
    "        Grad, LastFeatureMap = self.compute_gradient(GradModel, img_array)\n",
    "        HeatMap = self.compute_heatmap(Grad, LastFeatureMap)\n",
    "        NormalizedHeatMap = self.normalize_heatmap(HeatMap)\n",
    "\n",
    "        # # Display heatmap\n",
    "        plt.matshow(NormalizedHeatMap)\n",
    "        plt.show()\n",
    "\n",
    "\n"
   ]
  },
  {
   "cell_type": "code",
   "execution_count": 17,
   "metadata": {},
   "outputs": [
    {
     "name": "stderr",
     "output_type": "stream",
     "text": [
      "/tmp/ipykernel_122970/2041074077.py:14: DeprecationWarning: ANTIALIAS is deprecated and will be removed in Pillow 10 (2023-07-01). Use Resampling.LANCZOS instead.\n",
      "  img_resize = img_pil.resize((28, 28), Image.ANTIALIAS)\n"
     ]
    },
    {
     "name": "stdout",
     "output_type": "stream",
     "text": [
      "IMG SHAPE (1, 28, 28, 1)\n",
      "(1, 7, 7, 128) (1, 100)\n",
      "tf.Tensor(\n",
      "[0 0 0 0 0 0 0 0 0 0 0 0 0 0 0 0 0 0 0 0 0 0 0 0 0 0 0 0 0 0 0 0 0 0 0 0 0\n",
      " 0 0 0 0 0 0 0 0 0 0 0 0 0 0 0 0 0 0 0 0 0 0 0 0 0 0 0 0 0 0 0 0 0 0 0 0 0\n",
      " 0 0 0 0 0 0 0 0 0 0 0 0 0 0 0 0 0 0 0 0 0 0 0 0 0 0], shape=(100,), dtype=int64)\n"
     ]
    },
    {
     "ename": "TypeError",
     "evalue": "Only integers, slices (`:`), ellipsis (`...`), tf.newaxis (`None`) and scalar tf.int32/tf.int64 tensors are valid indices, got <tf.Tensor: shape=(100,), dtype=int64, numpy=\narray([0, 0, 0, 0, 0, 0, 0, 0, 0, 0, 0, 0, 0, 0, 0, 0, 0, 0, 0, 0, 0, 0,\n       0, 0, 0, 0, 0, 0, 0, 0, 0, 0, 0, 0, 0, 0, 0, 0, 0, 0, 0, 0, 0, 0,\n       0, 0, 0, 0, 0, 0, 0, 0, 0, 0, 0, 0, 0, 0, 0, 0, 0, 0, 0, 0, 0, 0,\n       0, 0, 0, 0, 0, 0, 0, 0, 0, 0, 0, 0, 0, 0, 0, 0, 0, 0, 0, 0, 0, 0,\n       0, 0, 0, 0, 0, 0, 0, 0, 0, 0, 0, 0])>",
     "output_type": "error",
     "traceback": [
      "\u001b[0;31m---------------------------------------------------------------------------\u001b[0m",
      "\u001b[0;31mTypeError\u001b[0m                                 Traceback (most recent call last)",
      "Cell \u001b[0;32mIn[17], line 2\u001b[0m\n\u001b[1;32m      1\u001b[0m gradcam \u001b[39m=\u001b[39m GradCAM(model\u001b[39m=\u001b[39mmodel)\n\u001b[0;32m----> 2\u001b[0m gradcam\u001b[39m.\u001b[39;49mgenerate_heatmap(filename\u001b[39m=\u001b[39;49mIMG_PATH)\n",
      "Cell \u001b[0;32mIn[16], line 93\u001b[0m, in \u001b[0;36mGradCAM.generate_heatmap\u001b[0;34m(self, filename)\u001b[0m\n\u001b[1;32m     91\u001b[0m img_array \u001b[39m=\u001b[39m load_img_array(filename)\n\u001b[1;32m     92\u001b[0m GradModel \u001b[39m=\u001b[39m \u001b[39mself\u001b[39m\u001b[39m.\u001b[39mcreate_gradcam_model()\n\u001b[0;32m---> 93\u001b[0m Grad, LastFeatureMap \u001b[39m=\u001b[39m \u001b[39mself\u001b[39;49m\u001b[39m.\u001b[39;49mcompute_gradient(GradModel, img_array)\n\u001b[1;32m     94\u001b[0m HeatMap \u001b[39m=\u001b[39m \u001b[39mself\u001b[39m\u001b[39m.\u001b[39mcompute_heatmap(Grad, LastFeatureMap)\n\u001b[1;32m     95\u001b[0m NormalizedHeatMap \u001b[39m=\u001b[39m \u001b[39mself\u001b[39m\u001b[39m.\u001b[39mnormalize_heatmap(HeatMap)\n",
      "Cell \u001b[0;32mIn[16], line 60\u001b[0m, in \u001b[0;36mGradCAM.compute_gradient\u001b[0;34m(self, GradCAM_Model, img_array)\u001b[0m\n\u001b[1;32m     58\u001b[0m     pred_index \u001b[39m=\u001b[39m tf\u001b[39m.\u001b[39margmax(preds, axis\u001b[39m=\u001b[39m\u001b[39m0\u001b[39m)\n\u001b[1;32m     59\u001b[0m     \u001b[39mprint\u001b[39m(pred_index)\n\u001b[0;32m---> 60\u001b[0m     y_pred \u001b[39m=\u001b[39m preds[:, pred_index]\n\u001b[1;32m     61\u001b[0m     \u001b[39mprint\u001b[39m(y_pred)\n\u001b[1;32m     63\u001b[0m \u001b[39m# This is the gradient of the output neuron (top predicted or chosen)\u001b[39;00m\n\u001b[1;32m     64\u001b[0m \u001b[39m# with regard to the output feature map of the last conv layer\u001b[39;00m\n",
      "File \u001b[0;32m~/.conda/envs/tf_gpu/lib/python3.8/site-packages/tensorflow/python/util/traceback_utils.py:153\u001b[0m, in \u001b[0;36mfilter_traceback.<locals>.error_handler\u001b[0;34m(*args, **kwargs)\u001b[0m\n\u001b[1;32m    151\u001b[0m \u001b[39mexcept\u001b[39;00m \u001b[39mException\u001b[39;00m \u001b[39mas\u001b[39;00m e:\n\u001b[1;32m    152\u001b[0m   filtered_tb \u001b[39m=\u001b[39m _process_traceback_frames(e\u001b[39m.\u001b[39m__traceback__)\n\u001b[0;32m--> 153\u001b[0m   \u001b[39mraise\u001b[39;00m e\u001b[39m.\u001b[39mwith_traceback(filtered_tb) \u001b[39mfrom\u001b[39;00m \u001b[39mNone\u001b[39m\n\u001b[1;32m    154\u001b[0m \u001b[39mfinally\u001b[39;00m:\n\u001b[1;32m    155\u001b[0m   \u001b[39mdel\u001b[39;00m filtered_tb\n",
      "File \u001b[0;32m~/.conda/envs/tf_gpu/lib/python3.8/site-packages/tensorflow/python/ops/array_ops.py:889\u001b[0m, in \u001b[0;36m_check_index\u001b[0;34m(idx)\u001b[0m\n\u001b[1;32m    884\u001b[0m dtype \u001b[39m=\u001b[39m \u001b[39mgetattr\u001b[39m(idx, \u001b[39m\"\u001b[39m\u001b[39mdtype\u001b[39m\u001b[39m\"\u001b[39m, \u001b[39mNone\u001b[39;00m)\n\u001b[1;32m    885\u001b[0m \u001b[39mif\u001b[39;00m (dtype \u001b[39mis\u001b[39;00m \u001b[39mNone\u001b[39;00m \u001b[39mor\u001b[39;00m dtypes\u001b[39m.\u001b[39mas_dtype(dtype) \u001b[39mnot\u001b[39;00m \u001b[39min\u001b[39;00m _SUPPORTED_SLICE_DTYPES \u001b[39mor\u001b[39;00m\n\u001b[1;32m    886\u001b[0m     idx\u001b[39m.\u001b[39mshape \u001b[39mand\u001b[39;00m \u001b[39mlen\u001b[39m(idx\u001b[39m.\u001b[39mshape) \u001b[39m==\u001b[39m \u001b[39m1\u001b[39m):\n\u001b[1;32m    887\u001b[0m   \u001b[39m# TODO(slebedev): IndexError seems more appropriate here, but it\u001b[39;00m\n\u001b[1;32m    888\u001b[0m   \u001b[39m# will break `_slice_helper` contract.\u001b[39;00m\n\u001b[0;32m--> 889\u001b[0m   \u001b[39mraise\u001b[39;00m \u001b[39mTypeError\u001b[39;00m(_SLICE_TYPE_ERROR \u001b[39m+\u001b[39m \u001b[39m\"\u001b[39m\u001b[39m, got \u001b[39m\u001b[39m{!r}\u001b[39;00m\u001b[39m\"\u001b[39m\u001b[39m.\u001b[39mformat(idx))\n",
      "\u001b[0;31mTypeError\u001b[0m: Only integers, slices (`:`), ellipsis (`...`), tf.newaxis (`None`) and scalar tf.int32/tf.int64 tensors are valid indices, got <tf.Tensor: shape=(100,), dtype=int64, numpy=\narray([0, 0, 0, 0, 0, 0, 0, 0, 0, 0, 0, 0, 0, 0, 0, 0, 0, 0, 0, 0, 0, 0,\n       0, 0, 0, 0, 0, 0, 0, 0, 0, 0, 0, 0, 0, 0, 0, 0, 0, 0, 0, 0, 0, 0,\n       0, 0, 0, 0, 0, 0, 0, 0, 0, 0, 0, 0, 0, 0, 0, 0, 0, 0, 0, 0, 0, 0,\n       0, 0, 0, 0, 0, 0, 0, 0, 0, 0, 0, 0, 0, 0, 0, 0, 0, 0, 0, 0, 0, 0,\n       0, 0, 0, 0, 0, 0, 0, 0, 0, 0, 0, 0])>"
     ]
    }
   ],
   "source": [
    "gradcam = GradCAM(model=model)\n",
    "gradcam.generate_heatmap(filename=IMG_PATH)"
   ]
  },
  {
   "cell_type": "code",
   "execution_count": null,
   "metadata": {},
   "outputs": [],
   "source": []
  }
 ],
 "metadata": {
  "kernelspec": {
   "display_name": "tf_gpu",
   "language": "python",
   "name": "python3"
  },
  "language_info": {
   "codemirror_mode": {
    "name": "ipython",
    "version": 3
   },
   "file_extension": ".py",
   "mimetype": "text/x-python",
   "name": "python",
   "nbconvert_exporter": "python",
   "pygments_lexer": "ipython3",
   "version": "3.8.0"
  },
  "orig_nbformat": 4,
  "vscode": {
   "interpreter": {
    "hash": "7af6488317c4eae45cfe2d92ddcd760ac10ac76eee454fa0eead8075769044a8"
   }
  }
 },
 "nbformat": 4,
 "nbformat_minor": 2
}
